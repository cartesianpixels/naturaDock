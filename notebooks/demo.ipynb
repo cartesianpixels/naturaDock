{
 "cells": [
  {
   "cell_type": "markdown",
   "id": "af5935b9",
   "metadata": {},
   "source": [
    "# naturaDock Demo Workflow\n",
    "This notebook demonstrates the workflow for virtual screening using naturaDock.\n",
    "\n",
    "**Steps covered:**\n",
    "1. Fetch compounds from PubChem using SMILES.\n",
    "2. Filter compounds for drug-likeness.\n",
    "3. Download a protein structure from the PDB.\n",
    "4. Perform docking using AutoDock Vina.\n",
    "5. Visualize docking scores.\n",
    "\n",
    "**Requirements:**\n",
    "- RDKit\n",
    "- matplotlib\n",
    "- naturaDock source modules (in `src/`)"
   ]
  },
  {
   "cell_type": "code",
   "execution_count": null,
   "id": "97983d28",
   "metadata": {},
   "outputs": [],
   "source": [
    "# This cell sets up the workflow for compound fetching, protein download, docking, and visualization.\n",
    "# It uses RDKit, custom src modules, and matplotlib for plotting.\n",
    "\n",
    "from rdkit import Chem\n",
    "from rdkit.Chem import Descriptors, AllChem\n",
    "from src import protein, compounds, docking\n",
    "import matplotlib.pyplot as plt\n",
    "\n",
    "# Sample SMILES for quercetin, luteolin, taxifolin\n",
    "smiles_list = [\n",
    "    \"C1=CC(=C(C=C1C2=C(C(=O)C3=C(C=C(C=C3O2)O)O)O)O)O\", # quercetin\n",
    "    \"C1=CC(=C(C=C1C2=CC(=O)C3=C(C=C(C=C3O2)O)O)O)O\", # luteolin\n",
    "    \"C1=CC(=C(C=C1[C@@H]2[C@H](C(=O)C3=C(C=C(C=C3O2)O)O)O)O)O\"  # taxifolin\n",
    "]\n",
    "mols = compounds.fetch_pubchem(smiles_list)\n",
    "filtered = compounds.filter_compounds(mols)\n",
    "print(f\"Fetched {len(filtered)} clean compounds\")\n",
    "\n",
    "# Download protein structure\n",
    "pdb_file = protein.download_pdb(\"6WDQ\")\n",
    "print(f\"Protein saved at {pdb_file}\")\n",
    "\n",
    "# Dock first compound (example)\n",
    "center = (10, 10, 10)\n",
    "size = (20, 20, 20)\n",
    "docking.run_vina(pdb_file, \"data/compounds/ligand.pdbqt\", center, size)\n",
    "\n",
    "# Visualize docking scores\n",
    "scores = [-7.5, -8.1, -6.9]\n",
    "plt.hist(scores)\n",
    "plt.title(\"Docking Score Distribution\")\n",
    "plt.show()"
   ]
  }
 ],
 "metadata": {
  "language_info": {
   "name": "python"
  }
 },
 "nbformat": 4,
 "nbformat_minor": 5
}
