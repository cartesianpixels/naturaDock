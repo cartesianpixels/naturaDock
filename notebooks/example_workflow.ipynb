{
 "cells": [
  {
   "cell_type": "markdown",
   "metadata": {},
   "source": [
    "# naturaDock Example Workflow\n",
    "\n",
    "This notebook demonstrates a complete workflow using the `naturaDock` pipeline, from preparing input files to running the docking simulation and analyzing the results.\n",
    "\n",
    "## 1. Setup and Dependencies\n",
    "\n",
    "First, ensure you have all the necessary dependencies installed. You can install them using pip:\n",
    "\n",
    "```bash\n",
    "pip install -r requirements.txt\n",
    "```\n",
    "\n",
    "Also, make sure AutoDock Vina is installed and accessible. The `vina.exe` (or `vina` on Linux/macOS) executable should be in your system's PATH or explicitly specified in the `vina_dock.py` module.\n",
    "\n",
    "## 2. Import Required Libraries and Check Dependencies\n"
   ]
  },
  {
   "cell_type": "code",
   "execution_count": null,
   "metadata": {},
   "outputs": [],
   "source": [
    "import sys\n",
    "import os\n",
    "import subprocess\n",
    "import shutil\n",
    "from pathlib import Path\n",
    "\n",
    "# Check and install required packages\n",
    "required_packages = ['toml', 'pandas', 'matplotlib']\n",
    "for package in required_packages:\n",
    "    try:\n",
    "        __import__(package)\n",
    "        print(f\"✓ {package} is available\")\n",
    "    except ImportError:\n",
    "        print(f\"⚠ Installing {package}...\")\n",
    "        subprocess.check_call([sys.executable, \"-m\", \"pip\", \"install\", package])\n",
    "\n",
    "# Now import the packages\n",
    "import toml\n",
    "import pandas as pd\n",
    "from IPython.display import Image, display\n",
    "\n",
    "print(\"All dependencies loaded successfully!\")"
   ]
  },
  {
   "cell_type": "markdown",
   "metadata": {},
   "source": [
    "## 3. Setup Project Structure and Paths\n"
   ]
  },
  {
   "cell_type": "code",
   "execution_count": null,
   "metadata": {},
   "outputs": [],
   "source": [
    "# Get current working directory (notebook location)\n",
    "current_dir = Path.cwd()\n",
    "print(f\"Current directory: {current_dir}\")\n",
    "\n",
    "# Try to find project root by looking for common project files\n",
    "def find_project_root(start_path):\n",
    "    \"\"\"Find project root by looking for key files\"\"\"\n",
    "    path = Path(start_path)\n",
    "    for parent in [path] + list(path.parents):\n",
    "        # Look for common project indicators\n",
    "        indicators = ['setup.py', 'pyproject.toml', 'requirements.txt', 'src', '.git']\n",
    "        if any((parent / indicator).exists() for indicator in indicators):\n",
    "            return parent\n",
    "    return path  # fallback to current directory\n",
    "\n",
    "project_root = find_project_root(current_dir)\n",
    "print(f\"Project root: {project_root}\")\n",
    "\n",
    "# Check for naturaDock source\n",
    "naturarock_src = project_root / \"src\" / \"naturaDock\"\n",
    "if naturarock_src.exists():\n",
    "    print(f\"✓ Found naturaDock source at: {naturarock_src}\")\n",
    "else:\n",
    "    print(f\"⚠ naturaDock source not found at expected location: {naturarock_src}\")\n",
    "    print(\"Please adjust the project_root path or ensure the notebook is in the correct location\")"
   ]
  },
  {
   "cell_type": "markdown",
   "metadata": {},
   "source": [
    "## 4. Check for AutoDock Vina Installation\n"
   ]
  },
  {
   "cell_type": "code",
   "execution_count": null,
   "metadata": {},
   "outputs": [],
   "source": [
    "def find_vina_executable():\n",
    "    \"\"\"Find AutoDock Vina executable\"\"\"\n",
    "    possible_names = ['vina', 'vina.exe']\n",
    "    possible_paths = [\n",
    "        # Common installation paths\n",
    "        \"C:\\\\Program Files\\\\AutoDockVina\\\\vina.exe\",\n",
    "        \"C:\\\\Program Files (x86)\\\\AutoDockVina\\\\vina.exe\",\n",
    "        \"/usr/local/bin/vina\",\n",
    "        \"/usr/bin/vina\",\n",
    "        \"./vina\",\n",
    "        \"./vina.exe\"\n",
    "    ]\n",
    "    \n",
    "    # Check if vina is in PATH\n",
    "    for name in possible_names:\n",
    "        if shutil.which(name):\n",
    "            return shutil.which(name)\n",
    "    \n",
    "    # Check specific paths\n",
    "    for path in possible_paths:\n",
    "        if Path(path).exists():\n",
    "            return path\n",
    "    \n",
    "    return None\n",
    "\n",
    "vina_path = find_vina_executable()\n",
    "if vina_path:\n",
    "    print(f\"✓ Found AutoDock Vina at: {vina_path}\")\n",
    "else:\n",
    "    print(\"⚠ AutoDock Vina not found. Please install it or specify the path manually.\")\n",
    "    print(\"Download from: https://autodock.scripps.edu/downloads/\")\n",
    "    # Prompt user to specify path\n",
    "    vina_path = input(\"Enter path to Vina executable (or press Enter to continue anyway): \").strip()\n",
    "    if not vina_path:\n",
    "        vina_path = \"vina\"  # fallback"
   ]
  },
  {
   "cell_type": "markdown",
   "metadata": {},
   "source": [
    "## 5. Create Example Data (if not present)\n"
   ]
  },
  {
   "cell_type": "code",
   "execution_count": null,
   "metadata": {},
   "outputs": [],
   "source": [
    "# Create example data directory\n",
    "example_data_dir = project_root / \"docs\" / \"tutorial\" / \"example_data\"\n",
    "example_data_dir.mkdir(parents=True, exist_ok=True)\n",
    "\n",
    "# Create a simple example protein PDB file if it doesn't exist\n",
    "protein_file = example_data_dir / \"protein.pdb\"\n",
    "if not protein_file.exists():\n",
    "    protein_content = \"\"\"HEADER    EXAMPLE PROTEIN                         01-JAN-00   XXXX              \n",
    "ATOM      1  N   ALA A   1      20.154  18.110  16.717  1.00 20.00           N  \n",
    "ATOM      2  CA  ALA A   1      19.030  17.295  17.206  1.00 20.00           C  \n",
    "ATOM      3  C   ALA A   1      18.454  17.922  18.471  1.00 20.00           C  \n",
    "ATOM      4  O   ALA A   1      18.778  18.981  18.879  1.00 20.00           O  \n",
    "ATOM      5  CB  ALA A   1      17.958  17.081  16.139  1.00 20.00           C  \n",
    "END\n",
    "\"\"\"\n",
    "    with open(protein_file, 'w') as f:\n",
    "        f.write(protein_content)\n",
    "    print(f\"✓ Created example protein file: {protein_file}\")\n",
    "else:\n",
    "    print(f\"✓ Protein file already exists: {protein_file}\")\n",
    "\n",
    "# Create a simple example compounds SDF file if it doesn't exist\n",
    "compounds_file = example_data_dir / \"compounds.sdf\"\n",
    "if not compounds_file.exists():\n",
    "    compounds_content = \"\"\"Compound_001\n",
    "  \n",
    "  \n",
    "  1  0  0  0  0  0  0  0  0  0  1 V2000\n",
    "    0.0000    0.0000    0.0000 C   0  0  0  0  0  0  0  0  0  0  0  0\n",
    "M  END\n",
    "> <ID>\n",
    "Compound_001\n",
    "\n",
    "$$$$\n",
    "Compound_002\n",
    "  \n",
    "  \n",
    "  2  1  0  0  0  0  0  0  0  0  1 V2000\n",
    "    0.0000    0.0000    0.0000 C   0  0  0  0  0  0  0  0  0  0  0  0\n",
    "    1.0000    0.0000    0.0000 O   0  0  0  0  0  0  0  0  0  0  0  0\n",
    "  1  2  1  0  0  0  0\n",
    "M  END\n",
    "> <ID>\n",
    "Compound_002\n",
    "\n",
    "$$$$\n",
    "\"\"\"\n",
    "    with open(compounds_file, 'w') as f:\n",
    "        f.write(compounds_content)\n",
    "    print(f\"✓ Created example compounds file: {compounds_file}\")\n",
    "else:\n",
    "    print(f\"✓ Compounds file already exists: {compounds_file}\")"
   ]
  },
  {
   "cell_type": "markdown",
   "metadata": {},
   "source": [
    "## 6. Define Configuration\n"
   ]
  },
  {
   "cell_type": "code",
   "execution_count": null,
   "metadata": {},
   "outputs": [],
   "source": [
    "config_content = {\n",
    "    \"protein\": str(protein_file),\n",
    "    \"ligands\": str(compounds_file),\n",
    "    \"output\": \"./output_example\",\n",
    "    \"size_x\": 20.0,\n",
    "    \"size_y\": 20.0,\n",
    "    \"size_z\": 20.0,\n",
    "    \"max_mol_weight\": 500.0,\n",
    "    \"max_rotatable_bonds\": 10,\n",
    "    \"min_logp\": -5.0,\n",
    "    \"max_logp\": 5.0,\n",
    "    \"export_format\": \"csv\",\n",
    "    \"num_workers\": 2,\n",
    "    \"log_file\": \"./output_example/naturaDock_example.log\",\n",
    "    \"verbose\": True\n",
    "}\n",
    "\n",
    "output_dir = Path(\"./output_example\")\n",
    "output_dir.mkdir(exist_ok=True)\n",
    "\n",
    "config_path = output_dir / \"config.toml\"\n",
    "with open(config_path, \"w\") as f:\n",
    "    toml.dump(config_content, f)\n",
    "\n",
    "print(f\"✓ Configuration file created at: {config_path}\")\n",
    "print(f\"Configuration content:\")\n",
    "for key, value in config_content.items():\n",
    "    print(f\"  {key}: {value}\")"
   ]
  },
  {
   "cell_type": "markdown",
   "metadata": {},
   "source": [
    "## 7. Run the naturaDock Pipeline\n"
   ]
  },
  {
   "cell_type": "code",
   "execution_count": null,
   "metadata": {},
   "outputs": [],
   "source": [
    "# Setup environment for subprocess\n",
    "env = os.environ.copy()\n",
    "env[\"PYTHONPATH\"] = str(project_root / \"src\")\n",
    "env[\"VINA_EXECUTABLE\"] = vina_path\n",
    "\n",
    "# Construct command\n",
    "main_script = naturarock_src / \"main.py\"\n",
    "if not main_script.exists():\n",
    "    print(f\"⚠ Main script not found at: {main_script}\")\n",
    "    print(\"Please check the naturaDock installation and adjust paths accordingly.\")\n",
    "else:\n",
    "    command = [\n",
    "        sys.executable,  # Use the same Python interpreter as the notebook\n",
    "        str(main_script),\n",
    "        \"--config\",\n",
    "        str(config_path)\n",
    "    ]\n",
    "\n",
    "    print(f\"Running command: {' '.join(command)}\")\n",
    "    print(f\"Environment variables:\")\n",
    "    print(f\"  PYTHONPATH: {env.get('PYTHONPATH')}\")\n",
    "    print(f\"  VINA_EXECUTABLE: {env.get('VINA_EXECUTABLE')}\")\n",
    "    print(\"\\nExecuting pipeline...\\n\")\n",
    "    \n",
    "    try:\n",
    "        result = subprocess.run(command, capture_output=True, text=True, env=env, cwd=str(project_root))\n",
    "        \n",
    "        print(\"=== STDOUT ===\")\n",
    "        print(result.stdout)\n",
    "        print(\"\\n=== STDERR ===\")\n",
    "        print(result.stderr)\n",
    "        \n",
    "        if result.returncode == 0:\n",
    "            print(\"\\n✓ Pipeline executed successfully!\")\n",
    "        else:\n",
    "            print(f\"\\n⚠ Pipeline failed with return code: {result.returncode}\")\n",
    "    except Exception as e:\n",
    "        print(f\"Error running pipeline: {e}\")"
   ]
  },
  {
   "cell_type": "markdown",
   "metadata": {},
   "source": [
    "## 8. Analyze Results\n"
   ]
  },
  {
   "cell_type": "code",
   "execution_count": null,
   "metadata": {},
   "outputs": [],
   "source": [
    "# Check what files were generated\n",
    "print(\"Generated files:\")\n",
    "if output_dir.exists():\n",
    "    for file in output_dir.iterdir():\n",
    "        if file.is_file():\n",
    "            print(f\"  📄 {file.name} ({file.stat().st_size} bytes)\")\n",
    "        elif file.is_dir():\n",
    "            print(f\"  📁 {file.name}/\")\n",
    "else:\n",
    "    print(\"  No output directory found\")\n",
    "\n",
    "# Load and display ranked results\n",
    "ranked_results_path = output_dir / \"ranked_results.csv\"\n",
    "if ranked_results_path.exists():\n",
    "    try:\n",
    "        df_results = pd.read_csv(ranked_results_path)\n",
    "        print(f\"\\n=== Ranked Results ({len(df_results)} compounds) ===\")\n",
    "        print(df_results.head(10))  # Show top 10\n",
    "        \n",
    "        if len(df_results) > 0:\n",
    "            print(f\"\\nBest binding affinity: {df_results.iloc[0]['binding_affinity']} kcal/mol\")\n",
    "            print(f\"Worst binding affinity: {df_results.iloc[-1]['binding_affinity']} kcal/mol\")\n",
    "    except Exception as e:\n",
    "        print(f\"Error reading results: {e}\")\n",
    "else:\n",
    "    print(f\"\\n⚠ Ranked results file not found at {ranked_results_path}\")"
   ]
  },
  {
   "cell_type": "markdown",
   "metadata": {},
   "source": [
    "## 9. Display Statistical Summary and Plots\n"
   ]
  },
  {
   "cell_type": "code",
   "execution_count": null,
   "metadata": {},
   "outputs": [],
   "source": [
    "# Display statistical summary\n",
    "statistical_summary_path = output_dir / \"statistical_summary.txt\"\n",
    "if statistical_summary_path.exists():\n",
    "    print(\"=== Statistical Summary ===\")\n",
    "    with open(statistical_summary_path, \"r\") as f:\n",
    "        print(f.read())\n",
    "else:\n",
    "    print(f\"⚠ Statistical summary file not found at {statistical_summary_path}\")\n",
    "\n",
    "# Display distribution plot\n",
    "plot_path = output_dir / \"docking_scores_distribution.png\"\n",
    "if plot_path.exists():\n",
    "    print(\"\\n=== Docking Scores Distribution Plot ===\")\n",
    "    try:\n",
    "        display(Image(filename=str(plot_path)))\n",
    "    except Exception as e:\n",
    "        print(f\"Error displaying plot: {e}\")\n",
    "else:\n",
    "    print(f\"\\n⚠ Distribution plot not found at {plot_path}\")"
   ]
  },
  {
   "cell_type": "markdown",
   "metadata": {},
   "source": [
    "## 10. Log File Analysis\n"
   ]
  },
  {
   "cell_type": "code",
   "execution_count": null,
   "metadata": {},
   "outputs": [],
   "source": [
    "# Display log file contents for debugging\n",
    "log_path = output_dir / \"naturaDock_example.log\"\n",
    "if log_path.exists():\n",
    "    print(\"=== Log File Contents ===\")\n",
    "    with open(log_path, \"r\") as f:\n",
    "        log_contents = f.read()\n",
    "        # Show last 50 lines to avoid overwhelming output\n",
    "        lines = log_contents.split('\\n')\n",
    "        if len(lines) > 50:\n",
    "            print(f\"... (showing last 50 lines of {len(lines)} total lines) ...\")\n",
    "            print('\\n'.join(lines[-50:]))\n",
    "        else:\n",
    "            print(log_contents)\n",
    "else:\n",
    "    print(f\"⚠ Log file not found at {log_path}\")"
   ]
  },
  {
   "cell_type": "markdown",
   "metadata": {},
   "source": [
    "## 11. Clean Up (Optional)\n"
   ]
  },
  {
   "cell_type": "code",
   "execution_count": null,
   "metadata": {},
   "outputs": [],
   "source": [
    "# Uncomment the lines below to clean up the generated files\n",
    "# import shutil\n",
    "# if output_dir.exists():\n",
    "#     shutil.rmtree(output_dir)\n",
    "#     print(f\"🧹 Cleaned up output directory: {output_dir}\")\n",
    "\n",
    "print(\"\\n=== Workflow Complete ===\")\n",
    "print(f\"Results saved in: {output_dir}\")\n",
    "print(\"You can now analyze the docking results and proceed with your research!\")"
   ]
  }
 ],
 "metadata": {
  "kernelspec": {
   "display_name": "Python 3",
   "language": "python",
   "name": "python3"
  },
  "language_info": {
   "codemirror_mode": {
    "name": "ipython",
    "version": 3
   },
   "file_extension": ".py",
   "mimetype": "text/x-python",
   "name": "python",
   "nbconvert_exporter": "python",
   "pygments_lexer": "ipython3",
   "version": "3.11.0"
  }
 },
 "nbformat": 4,
 "nbformat_minor": 4
}